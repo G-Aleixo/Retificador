{
 "cells": [
  {
   "cell_type": "code",
   "execution_count": 29,
   "id": "c39e695d",
   "metadata": {},
   "outputs": [],
   "source": [
    "import numpy as np\n",
    "import matplotlib.pyplot as plt\n",
    "import functools"
   ]
  },
  {
   "cell_type": "code",
   "execution_count": 30,
   "id": "99e62999",
   "metadata": {},
   "outputs": [],
   "source": [
    "# Simulation settings\n",
    "dtime = 0.001 # time step in seconds\n",
    "iterative = True\n",
    "ideal_diodes = False\n",
    "\n",
    "# Other\n",
    "diode_volt_drop = 0 if ideal_diodes else 0.7\n",
    "\n",
    "# Capacitor\n",
    "has_capacitor = True\n",
    "capacitance = 1e-4 # farads\n",
    "#phase = np.pi / 2 # 90 degrees, TODO: change to calculate based on resistance\n",
    "\n",
    "# Zener diode\n",
    "has_zener = True\n",
    "zener_voltage = 9\n",
    "\n",
    "# Resistor\n",
    "resistance = 800 # ohm\n",
    "\n",
    "# Source\n",
    "frequency = 60 # hertz\n",
    "voltage = 12 # volts\n",
    "current_volt = lambda t: np.sin(2*np.pi*t*frequency) * voltage # function given time in seconds\n",
    "\n",
    "# Rectifiers\n",
    "\n",
    "# False is single diode, True is diode bridge\n",
    "diode_bridge = True\n",
    "\n",
    "if diode_bridge:\n",
    "    rect_volt = lambda volt: np.abs(volt) if ideal_diodes else max(np.abs(volt) - 2*diode_volt_drop, 0)\n",
    "else:\n",
    "    rect_volt = lambda volt: max(volt, 0) if ideal_diodes else max(volt - diode_volt_drop, 0)\n",
    "\n",
    "if has_zener:\n",
    "    def limited_volt(volt): # disconsiders negative voltage\n",
    "        if volt > zener_voltage:\n",
    "            return zener_voltage\n",
    "        else:\n",
    "            return volt\n",
    "else:\n",
    "    limited_volt = lambda volt: volt"
   ]
  },
  {
   "cell_type": "code",
   "execution_count": 31,
   "id": "eb01ff31",
   "metadata": {},
   "outputs": [],
   "source": [
    "# Calculating functions\n",
    "@functools.cache\n",
    "def charge_capacitor(time_step, current_charge, applied_volt):\n",
    "    time_const = capacitance * resistance\n",
    "    \n",
    "    next_charge = applied_volt + (current_charge - applied_volt) * np.exp(-time_step/time_const)\n",
    "    \n",
    "    return next_charge"
   ]
  },
  {
   "cell_type": "code",
   "execution_count": 32,
   "id": "c577144b",
   "metadata": {},
   "outputs": [
    {
     "data": {
      "image/png": "[encoded data removed]",
      "text/plain": [
       "<Figure size 640x480 with 1 Axes>"
      ]
     },
     "metadata": {},
     "output_type": "display_data"
    }
   ],
   "source": [
    "times = []\n",
    "values = []\n",
    "\n",
    "dont_show_calc_time = 2\n",
    "show_time = 5\n",
    "\n",
    "if iterative:\n",
    "    cap_charge = 0\n",
    "    volt_at_resistor = 0\n",
    "    t = 0\n",
    "    \n",
    "    while t < dont_show_calc_time:\n",
    "        volts = limited_volt(rect_volt(current_volt(t)))\n",
    "        if has_capacitor:\n",
    "            cap_charge = charge_capacitor(dtime, cap_charge, volts)\n",
    "            volt_at_resistor = cap_charge\n",
    "        else:\n",
    "            volt_at_resistor = volts\n",
    "        t += dtime\n",
    "    \n",
    "    while t < show_time + dont_show_calc_time:\n",
    "        volts = limited_volt(rect_volt(current_volt(t)))\n",
    "        \n",
    "        if has_capacitor:\n",
    "            cap_charge = charge_capacitor(dtime, cap_charge, volts)\n",
    "            volt_at_resistor = cap_charge\n",
    "        else:\n",
    "            volt_at_resistor = volts\n",
    "        values.append(volt_at_resistor)\n",
    "        times.append(t)\n",
    "        \n",
    "        t += dtime\n",
    "        \n",
    "plt.plot(times, values) #marker=\"o\"\n",
    "\n",
    "# Adding labels and legend\n",
    "plt.xlabel('Time')\n",
    "plt.ylabel('Voltage across capacitor')\n",
    "plt.title('')\n",
    "\n",
    "# Display the plot\n",
    "plt.show()"
   ]
  }
 ],
 "metadata": {
  "kernelspec": {
   "display_name": ".venv",
   "language": "python",
   "name": "python3"
  },
  "language_info": {
   "codemirror_mode": {
    "name": "ipython",
    "version": 3
   },
   "file_extension": ".py",
   "mimetype": "text/x-python",
   "name": "python",
   "nbconvert_exporter": "python",
   "pygments_lexer": "ipython3",
   "version": "3.11.2"
  }
 },
 "nbformat": 4,
 "nbformat_minor": 5
}
