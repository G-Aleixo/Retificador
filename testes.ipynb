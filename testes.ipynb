{
 "cells": [
  {
   "cell_type": "code",
   "execution_count": 32,
   "id": "c39e695d",
   "metadata": {},
   "outputs": [],
   "source": [
    "import numpy as np\n",
    "import matplotlib.pyplot as plt"
   ]
  },
  {
   "cell_type": "code",
   "execution_count": null,
   "id": "99e62999",
   "metadata": {},
   "outputs": [],
   "source": [
    "# Simulation settings\n",
    "dtime = 0.01 # time step\n",
    "iterative = True\n",
    "\n",
    "# Capacitor\n",
    "capacitance = 10e-6 # farads\n",
    "phase = np.pi / 2 # 90 degrees, TODO: change to calculate based on resistance\n",
    "\n",
    "# Zener diode\n",
    "has_zener = True\n",
    "\n",
    "# Resistor\n",
    "resistance = 200 # ohm\n",
    "\n",
    "# Source\n",
    "frequency = 1 # hertz\n",
    "voltage = 5 # volts\n",
    "current_volt = lambda t: np.sin(2*np.pi*t*frequency)# * voltage # function given time in seconds\n",
    "\n",
    "# Rectifiers\n",
    "\n",
    "# False is single diode, True is diode bridge\n",
    "diode_bridge = True\n",
    "\n",
    "if diode_bridge:\n",
    "    rect_volt = lambda volt: np.abs(volt)\n",
    "else:\n",
    "    rect_volt = lambda volt: volt if volt >= 1e-14 else 0\n"
   ]
  },
  {
   "cell_type": "code",
   "execution_count": null,
   "id": "eb01ff31",
   "metadata": {},
   "outputs": [],
   "source": [
    "# Calculating functions\n",
    "def charge_capacitor(time_step, current_charge, applied_volt):\n",
    "    time_const = capacitance * resistance\n",
    "    \n",
    "    next_charge = current_charge - applied_volt"
   ]
  },
  {
   "cell_type": "code",
   "execution_count": null,
   "id": "c577144b",
   "metadata": {},
   "outputs": [],
   "source": [
    "if iterative:\n",
    "    "
   ]
  },
  {
   "cell_type": "code",
   "execution_count": 34,
   "id": "6643a9ca",
   "metadata": {},
   "outputs": [
    {
     "name": "stdout",
     "output_type": "stream",
     "text": [
      "0.0 0.0\n",
      "0.25 1.0\n",
      "0.5 1.2246467991473532e-16\n",
      "0.75 1.0\n",
      "1.0 2.4492935982947064e-16\n",
      "1.25 1.0\n",
      "1.5 3.6739403974420594e-16\n",
      "1.75 1.0\n",
      "2.0 4.898587196589413e-16\n",
      "2.25 1.0\n"
     ]
    }
   ],
   "source": [
    "for t in range(10): print(t/4, rect_volt(current_volt(t/4)))"
   ]
  }
 ],
 "metadata": {
  "kernelspec": {
   "display_name": ".venv",
   "language": "python",
   "name": "python3"
  },
  "language_info": {
   "codemirror_mode": {
    "name": "ipython",
    "version": 3
   },
   "file_extension": ".py",
   "mimetype": "text/x-python",
   "name": "python",
   "nbconvert_exporter": "python",
   "pygments_lexer": "ipython3",
   "version": "3.12.1"
  }
 },
 "nbformat": 4,
 "nbformat_minor": 5
}
